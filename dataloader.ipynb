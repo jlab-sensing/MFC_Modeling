{
  "cells": [
    {
      "cell_type": "markdown",
      "execution_count": null,
      "outputs": [],
      "metadata": {
        "id": "view-in-github",
        "colab_type": "text"
      },
      "source": [
        "<a href=\"https://colab.research.google.com/github/jlab-sensing/MFC_Modeling/blob/main/dataloader.ipynb\" target=\"_parent\"><img src=\"https://colab.research.google.com/assets/colab-badge.svg\" alt=\"Open In Colab\"/></a>"
      ]
    },
    {
      "cell_type": "code",
      "execution_count": null,
      "metadata": {
        "id": "zcF-Dv23N_ON"
      },
      "outputs": [],
      "source": [
        "!pip install --upgrade hepml\n",
        "# reload modules before executing user code\n",
        "%load_ext autoreload\n",
        "# reload all modules every time before executing Python code\n",
        "%autoreload 2\n",
        "# render plots in notebook\n",
        "%matplotlib inline\n",
        "import datetime\n",
        "import pandas as pd\n",
        "import numpy as np\n",
        "import glob\n",
        "from sklearn.model_selection import train_test_split\n",
        "import matplotlib.pyplot as plt\n",
        "import seaborn as sns\n",
        "from hepml.core import plot_regression_tree\n",
        "sns.set(color_codes=True)\n",
        "sns.set_palette(sns.color_palette(\"muted\"))\n",
        "from sklearn.model_selection import train_test_split\n",
        "from sklearn.metrics import mean_squared_error\n",
        "from sklearn.ensemble import RandomForestRegressor\n",
        "from sklearn.metrics import mean_absolute_percentage_error as MAPE\n",
        "\n",
        "from google.colab import drive\n",
        "drive.mount('/content/drive', force_remount=True)\n",
        "\n",
        "!unzip drive/MyDrive/\"jLab Shared Docs\"/\"MFC Modeling\"/stanfordMFCDataset"
      ]
    },
    {
      "cell_type": "code",
      "execution_count": null,
      "metadata": {
        "id": "B7PoS8fwOS-Q"
      },
      "outputs": [],
      "source": [
        "#Load teros data\n",
        "teros_files = glob.glob(\"rocket4/TEROSoutput*.csv\")\n",
        "X = pd.DataFrame()\n",
        "for f in teros_files:\n",
        "  try:\n",
        "    csv = pd.read_csv(f, index_col=False).dropna()\n",
        "    X = pd.concat([X, csv])\n",
        "  except:\n",
        "    continue"
      ]
    },
    {
      "cell_type": "code",
      "execution_count": null,
      "metadata": {
        "id": "zaaHwFRvXtN4"
      },
      "outputs": [],
      "source": [
        "#Load power data\n",
        "power_files = glob.glob(\"rocket4/soil*.csv\")\n",
        "y = pd.DataFrame()\n",
        "for f in power_files:\n",
        "  try:\n",
        "    csv = pd.read_csv(f, on_bad_lines='skip', skiprows=10).dropna(how='all')\n",
        "    csv = csv.rename({'Unnamed: 0': 'timestamp'}, axis='columns')\n",
        "    y = pd.concat([y,csv])\n",
        "  except:\n",
        "    continue\n",
        "y[\"timestamp\"] = y[\"timestamp\"].round(decimals = 1)"
      ]
    },
    {
      "cell_type": "code",
      "source": [
        "#Sort data by timestamp, convert to datetime\n",
        "X = X.sort_values(['timestamp'])\n",
        "y = y.sort_values(['timestamp'])\n",
        "X['timestamp'] = pd.to_datetime(X['timestamp'], unit='s')\n",
        "y['timestamp'] = pd.to_datetime(y['timestamp'], unit='s')\n",
        "\n",
        "#Merge data by timestamp\n",
        "uncut_df = pd.merge_asof(left=X,right=y,direction='nearest',tolerance=pd.Timedelta('0.1 min'), on = 'timestamp').dropna(how='all')\n",
        "\n",
        "#Isolate data from cell0\n",
        "df = uncut_df.loc[uncut_df['sensorID'] == 0]\n",
        "\n",
        "#Use only data after deployment data\n",
        "df = df.loc[df['timestamp'] > '2021-06-11']\n",
        "\n",
        "#Calculate power\n",
        "df[\"power\"] = np.abs(np.multiply(df.iloc[:, 8]*10E-12, df.iloc[:, 9]*10E-9))\n",
        "\n",
        "\n",
        "#Add power time series\n",
        "df['previous_power - 1'] = df['power'].shift(1).dropna()\n",
        "#df['previous_power - 2'] = df['power'].shift(2).dropna()\n",
        "#df['previous_power - 3'] = df['power'].shift(3).dropna()\n",
        "#df['previous_power - 4'] = df['power'].shift(4).dropna()\n",
        "\n",
        "df = df.dropna()"
      ],
      "metadata": {
        "id": "z0aqozsZpSOB"
      },
      "execution_count": null,
      "outputs": []
    },
    {
      "cell_type": "code",
      "source": [
        "#Data visualization\n",
        "#!/usr/bin/env python3\n",
        "!pip install arrow\n",
        "import matplotlib as mpl\n",
        "mpl.use('Agg')\n",
        "#mpl.rc('font', **font)\n",
        "import matplotlib.pyplot as plt\n",
        "import matplotlib.gridspec as gridspec\n",
        "import matplotlib.dates as md\n",
        "import datetime\n",
        "import numpy as np\n",
        "from pytz import timezone\n",
        "import pandas as pd\n",
        "from glob import glob\n",
        "import arrow\n",
        "import os\n",
        "from pandas.plotting import register_matplotlib_converters\n",
        "register_matplotlib_converters()\n",
        "%matplotlib inline\n",
        "\n",
        "# Limits for graphs\n",
        "VOLTAGE_LIM = 1\n",
        "CURRENT_LIM = 200\n",
        "POWER_LIM = 50\n",
        "\n",
        "mv = df.rolling(5*60).mean()\n",
        "\n",
        "plt.close()\n",
        "plt.xlabel(\"Time\")\n",
        "fig, (ax1, ax3) = plt.subplots(2,figsize=(4,2), sharex=True)\n",
        "fig.autofmt_xdate()\n",
        "\n",
        "\n",
        "volt_color= 'tab:blue'\n",
        "\n",
        "amp_color = 'tab:red'\n",
        "\n",
        "\n",
        "volt_color1= 'tab:blue'\n",
        "volt_style1 = 'dashed'\n",
        "volt_color2= 'tab:green'\n",
        "volt_style2 = 'dotted'\n",
        "amp_color1 = 'tab:red'\n",
        "amp_style1='dashed'\n",
        "amp_color2 = 'tab:orange'\n",
        "amp_style2='dashdot'\n",
        "ax1.set_ylabel('Cell Voltage (V)')\n",
        "ax1.plot(df['timestamp'], mv['V1 [10nV]'], color=volt_color1, ls=volt_style1)\n",
        "#ax1.plot(df['timestamp'], mv['V2 [10nV]'], color=volt_color2, ls=volt_style2)\n",
        "ax1.tick_params(axis='y', labelcolor=volt_color1)\n",
        "ax1.set_ylim(0, VOLTAGE_LIM)\n",
        "\n",
        "ax2 = ax1.twinx()\n",
        "ax2.set_ylabel('Current (μA)')\n",
        "ax2.plot(df['timestamp'], 1E6*mv['I1L [10pA]'], color=amp_color1, ls=amp_style1)\n",
        "#ax2.plot(df['timestamp'], 1E6*mv['I2L [10pA]'], color=amp_color2, ls=amp_style2)\n",
        "ax2.tick_params(axis='y', labelcolor=amp_color1)\n",
        "ax2.set_ylim(0, CURRENT_LIM)\n",
        "ax1.tick_params(axis='x', which='both', length=0)\n",
        "ax2.tick_params(axis='x', which='both', length=0)\n",
        "\n",
        "ax1.grid(True)\n",
        "ax1.legend(['C1 volts','C2 volts'], loc='upper left', prop={'size': 6})\n",
        "#ax2.legend(['C1 amps','C2 amps'], loc='upper right' , prop={'size': 6})\n",
        "# Re-arrange legends, ensures data does not draw on top of them\n",
        "all_axes = fig.get_axes()\n",
        "for axis in all_axes:\n",
        "    legend = axis.get_legend()\n",
        "    if legend is not None:\n",
        "        legend.remove()\n",
        "        all_axes[-1].add_artist(legend)\n",
        "\n",
        "ax3.fmt_xdata = md.DateFormatter('%m-%d-%y')\n",
        "ax3.xaxis.set_major_formatter(md.DateFormatter('%m-%d-%y'))\n",
        "ax3.set_ylabel(\"Power (uW)\")\n",
        "ax3.grid(True)\n",
        "#print('max power: ',max(max(1E6*df['power1']),max(1E6*df['power2'])))\n",
        "ax3.set_ylim(0, 5)\n",
        "ax3.plot(df['timestamp'], 1E6*mv['power'], color=volt_color1, ls = volt_style1)\n",
        "#ax3.plot(df['timestamp'], 1E6*mv['power2'], color=volt_color2, ls = volt_style2)\n",
        "ax3.legend(['Cell 1','Cell 2'], loc='upper right', prop={'size': 6})\n",
        "#ax3.legend(['Cell 1','Cell 2'], loc='upper left', prop={'size': 6})\n",
        "ax3.tick_params(axis='x', labelsize=6, rotation=30)\n",
        "ax3.xaxis.set_major_locator(plt.MaxNLocator(8))\n",
        "#ax3.set_xlim(mv.index[0], datetime.date(2020,5,19))\n",
        "for label in ax3.get_xticklabels():\n",
        "    label.set_horizontalalignment('center')\n",
        "\n",
        "plt.tight_layout(pad=0.6, w_pad=0.5, h_pad=0.6)\n",
        "plt.subplots_adjust(hspace=0.15)\n",
        "plt.savefig('twobat.pdf')\n",
        "plt.close()\n",
        "#tot_energy = np.trapz(df['power1'])\n",
        "#tot_energy = np.trapz(df['power2'])\n",
        "#print(tot_energy)\n",
        "#print((df.tail(1).index - df.head(1).index).total_seconds())\n"
      ],
      "metadata": {
        "id": "95w3X-SCnn31"
      },
      "execution_count": null,
      "outputs": []
    },
    {
      "cell_type": "code",
      "source": [
        "#Re-split data for training\n",
        "X = pd.concat([df.iloc[:, 0:1], df.iloc[:, 2:5], df.iloc[:, 14:18]], axis = 1).dropna()\n",
        "y = df.iloc[:, 13:14].dropna()\n",
        "\n",
        "#Convert datetime to timestamp for training\n",
        "X[\"timestamp\"] = X[\"timestamp\"].values.astype(\"float64\")\n",
        "\n",
        "#Creating training and testing sets\n",
        "X_train, X_test = train_test_split(X, test_size=0.3, shuffle=False)\n",
        "y_train, y_test = train_test_split(y, test_size=0.3, shuffle=False)"
      ],
      "metadata": {
        "id": "UJJGPhhimY9b"
      },
      "execution_count": null,
      "outputs": []
    },
    {
      "cell_type": "code",
      "source": [
        "df[pd.isnull(df).any(axis=1)]"
      ],
      "metadata": {
        "id": "o-m5wRDdrwhD",
        "colab": {
          "base_uri": "https://localhost:8080/",
          "height": 179
        },
        "outputId": "68fcb029-ef18-42fb-899a-350433dd3e73"
      },
      "execution_count": null,
      "outputs": [
        {
          "output_type": "execute_result",
          "data": {
            "text/plain": [
              "                 timestamp  sensorID  raw_VWC  temp     EC  I1L_valid  \\\n",
              "840340 2021-06-21 17:17:22       0.0  2468.52  32.5  219.0        1.0   \n",
              "\n",
              "        I2L_valid  I1H [nA]  I1L [10pA]  V1 [10nV]  V2 [10nV]  I2H [nA]  \\\n",
              "840340        1.0  -41844.0   -724790.0 -1658645.0 -5328466.0  130811.0   \n",
              "\n",
              "        I2L [10pA]         power  previous_power - 1  \n",
              "840340   1735386.0  1.202169e-07                 NaN  "
            ],
            "text/html": [
              "\n",
              "\n",
              "  <div id=\"df-4f7a8e87-62ba-497a-af56-46ca8de76dbe\">\n",
              "    <div class=\"colab-df-container\">\n",
              "      <div>\n",
              "<style scoped>\n",
              "    .dataframe tbody tr th:only-of-type {\n",
              "        vertical-align: middle;\n",
              "    }\n",
              "\n",
              "    .dataframe tbody tr th {\n",
              "        vertical-align: top;\n",
              "    }\n",
              "\n",
              "    .dataframe thead th {\n",
              "        text-align: right;\n",
              "    }\n",
              "</style>\n",
              "<table border=\"1\" class=\"dataframe\">\n",
              "  <thead>\n",
              "    <tr style=\"text-align: right;\">\n",
              "      <th></th>\n",
              "      <th>timestamp</th>\n",
              "      <th>sensorID</th>\n",
              "      <th>raw_VWC</th>\n",
              "      <th>temp</th>\n",
              "      <th>EC</th>\n",
              "      <th>I1L_valid</th>\n",
              "      <th>I2L_valid</th>\n",
              "      <th>I1H [nA]</th>\n",
              "      <th>I1L [10pA]</th>\n",
              "      <th>V1 [10nV]</th>\n",
              "      <th>V2 [10nV]</th>\n",
              "      <th>I2H [nA]</th>\n",
              "      <th>I2L [10pA]</th>\n",
              "      <th>power</th>\n",
              "      <th>previous_power - 1</th>\n",
              "    </tr>\n",
              "  </thead>\n",
              "  <tbody>\n",
              "    <tr>\n",
              "      <th>840340</th>\n",
              "      <td>2021-06-21 17:17:22</td>\n",
              "      <td>0.0</td>\n",
              "      <td>2468.52</td>\n",
              "      <td>32.5</td>\n",
              "      <td>219.0</td>\n",
              "      <td>1.0</td>\n",
              "      <td>1.0</td>\n",
              "      <td>-41844.0</td>\n",
              "      <td>-724790.0</td>\n",
              "      <td>-1658645.0</td>\n",
              "      <td>-5328466.0</td>\n",
              "      <td>130811.0</td>\n",
              "      <td>1735386.0</td>\n",
              "      <td>1.202169e-07</td>\n",
              "      <td>NaN</td>\n",
              "    </tr>\n",
              "  </tbody>\n",
              "</table>\n",
              "</div>\n",
              "      <button class=\"colab-df-convert\" onclick=\"convertToInteractive('df-4f7a8e87-62ba-497a-af56-46ca8de76dbe')\"\n",
              "              title=\"Convert this dataframe to an interactive table.\"\n",
              "              style=\"display:none;\">\n",
              "\n",
              "  <svg xmlns=\"http://www.w3.org/2000/svg\" height=\"24px\"viewBox=\"0 0 24 24\"\n",
              "       width=\"24px\">\n",
              "    <path d=\"M0 0h24v24H0V0z\" fill=\"none\"/>\n",
              "    <path d=\"M18.56 5.44l.94 2.06.94-2.06 2.06-.94-2.06-.94-.94-2.06-.94 2.06-2.06.94zm-11 1L8.5 8.5l.94-2.06 2.06-.94-2.06-.94L8.5 2.5l-.94 2.06-2.06.94zm10 10l.94 2.06.94-2.06 2.06-.94-2.06-.94-.94-2.06-.94 2.06-2.06.94z\"/><path d=\"M17.41 7.96l-1.37-1.37c-.4-.4-.92-.59-1.43-.59-.52 0-1.04.2-1.43.59L10.3 9.45l-7.72 7.72c-.78.78-.78 2.05 0 2.83L4 21.41c.39.39.9.59 1.41.59.51 0 1.02-.2 1.41-.59l7.78-7.78 2.81-2.81c.8-.78.8-2.07 0-2.86zM5.41 20L4 18.59l7.72-7.72 1.47 1.35L5.41 20z\"/>\n",
              "  </svg>\n",
              "      </button>\n",
              "\n",
              "\n",
              "\n",
              "    <div id=\"df-4bab9402-c393-4c88-a37a-d5f769ef4613\">\n",
              "      <button class=\"colab-df-quickchart\" onclick=\"quickchart('df-4bab9402-c393-4c88-a37a-d5f769ef4613')\"\n",
              "              title=\"Suggest charts.\"\n",
              "              style=\"display:none;\">\n",
              "\n",
              "<svg xmlns=\"http://www.w3.org/2000/svg\" height=\"24px\"viewBox=\"0 0 24 24\"\n",
              "     width=\"24px\">\n",
              "    <g>\n",
              "        <path d=\"M19 3H5c-1.1 0-2 .9-2 2v14c0 1.1.9 2 2 2h14c1.1 0 2-.9 2-2V5c0-1.1-.9-2-2-2zM9 17H7v-7h2v7zm4 0h-2V7h2v10zm4 0h-2v-4h2v4z\"/>\n",
              "    </g>\n",
              "</svg>\n",
              "      </button>\n",
              "    </div>\n",
              "\n",
              "<style>\n",
              "  .colab-df-quickchart {\n",
              "    background-color: #E8F0FE;\n",
              "    border: none;\n",
              "    border-radius: 50%;\n",
              "    cursor: pointer;\n",
              "    display: none;\n",
              "    fill: #1967D2;\n",
              "    height: 32px;\n",
              "    padding: 0 0 0 0;\n",
              "    width: 32px;\n",
              "  }\n",
              "\n",
              "  .colab-df-quickchart:hover {\n",
              "    background-color: #E2EBFA;\n",
              "    box-shadow: 0px 1px 2px rgba(60, 64, 67, 0.3), 0px 1px 3px 1px rgba(60, 64, 67, 0.15);\n",
              "    fill: #174EA6;\n",
              "  }\n",
              "\n",
              "  [theme=dark] .colab-df-quickchart {\n",
              "    background-color: #3B4455;\n",
              "    fill: #D2E3FC;\n",
              "  }\n",
              "\n",
              "  [theme=dark] .colab-df-quickchart:hover {\n",
              "    background-color: #434B5C;\n",
              "    box-shadow: 0px 1px 3px 1px rgba(0, 0, 0, 0.15);\n",
              "    filter: drop-shadow(0px 1px 2px rgba(0, 0, 0, 0.3));\n",
              "    fill: #FFFFFF;\n",
              "  }\n",
              "</style>\n",
              "\n",
              "    <script>\n",
              "      async function quickchart(key) {\n",
              "        const containerElement = document.querySelector('#' + key);\n",
              "        const charts = await google.colab.kernel.invokeFunction(\n",
              "            'suggestCharts', [key], {});\n",
              "      }\n",
              "    </script>\n",
              "\n",
              "      <script>\n",
              "\n",
              "function displayQuickchartButton(domScope) {\n",
              "  let quickchartButtonEl =\n",
              "    domScope.querySelector('#df-4bab9402-c393-4c88-a37a-d5f769ef4613 button.colab-df-quickchart');\n",
              "  quickchartButtonEl.style.display =\n",
              "    google.colab.kernel.accessAllowed ? 'block' : 'none';\n",
              "}\n",
              "\n",
              "        displayQuickchartButton(document);\n",
              "      </script>\n",
              "      <style>\n",
              "    .colab-df-container {\n",
              "      display:flex;\n",
              "      flex-wrap:wrap;\n",
              "      gap: 12px;\n",
              "    }\n",
              "\n",
              "    .colab-df-convert {\n",
              "      background-color: #E8F0FE;\n",
              "      border: none;\n",
              "      border-radius: 50%;\n",
              "      cursor: pointer;\n",
              "      display: none;\n",
              "      fill: #1967D2;\n",
              "      height: 32px;\n",
              "      padding: 0 0 0 0;\n",
              "      width: 32px;\n",
              "    }\n",
              "\n",
              "    .colab-df-convert:hover {\n",
              "      background-color: #E2EBFA;\n",
              "      box-shadow: 0px 1px 2px rgba(60, 64, 67, 0.3), 0px 1px 3px 1px rgba(60, 64, 67, 0.15);\n",
              "      fill: #174EA6;\n",
              "    }\n",
              "\n",
              "    [theme=dark] .colab-df-convert {\n",
              "      background-color: #3B4455;\n",
              "      fill: #D2E3FC;\n",
              "    }\n",
              "\n",
              "    [theme=dark] .colab-df-convert:hover {\n",
              "      background-color: #434B5C;\n",
              "      box-shadow: 0px 1px 3px 1px rgba(0, 0, 0, 0.15);\n",
              "      filter: drop-shadow(0px 1px 2px rgba(0, 0, 0, 0.3));\n",
              "      fill: #FFFFFF;\n",
              "    }\n",
              "  </style>\n",
              "\n",
              "      <script>\n",
              "        const buttonEl =\n",
              "          document.querySelector('#df-4f7a8e87-62ba-497a-af56-46ca8de76dbe button.colab-df-convert');\n",
              "        buttonEl.style.display =\n",
              "          google.colab.kernel.accessAllowed ? 'block' : 'none';\n",
              "\n",
              "        async function convertToInteractive(key) {\n",
              "          const element = document.querySelector('#df-4f7a8e87-62ba-497a-af56-46ca8de76dbe');\n",
              "          const dataTable =\n",
              "            await google.colab.kernel.invokeFunction('convertToInteractive',\n",
              "                                                     [key], {});\n",
              "          if (!dataTable) return;\n",
              "\n",
              "          const docLinkHtml = 'Like what you see? Visit the ' +\n",
              "            '<a target=\"_blank\" href=https://colab.research.google.com/notebooks/data_table.ipynb>data table notebook</a>'\n",
              "            + ' to learn more about interactive tables.';\n",
              "          element.innerHTML = '';\n",
              "          dataTable['output_type'] = 'display_data';\n",
              "          await google.colab.output.renderOutput(dataTable, element);\n",
              "          const docLink = document.createElement('div');\n",
              "          docLink.innerHTML = docLinkHtml;\n",
              "          element.appendChild(docLink);\n",
              "        }\n",
              "      </script>\n",
              "    </div>\n",
              "  </div>\n"
            ]
          },
          "metadata": {},
          "execution_count": 45
        }
      ]
    },
    {
      "cell_type": "code",
      "source": [
        "#Train model\n",
        "model = RandomForestRegressor(n_estimators=10, n_jobs=-1, random_state=42)\n",
        "%time model.fit(X_train, y_train.values.ravel())"
      ],
      "metadata": {
        "id": "huo-iZvz_OoW",
        "colab": {
          "base_uri": "https://localhost:8080/",
          "height": 110
        },
        "outputId": "ced4c7c8-caea-46d0-d45f-04fb6564615b"
      },
      "execution_count": null,
      "outputs": [
        {
          "output_type": "stream",
          "name": "stdout",
          "text": [
            "CPU times: user 1min 11s, sys: 0 ns, total: 1min 11s\n",
            "Wall time: 44 s\n"
          ]
        },
        {
          "output_type": "execute_result",
          "data": {
            "text/plain": [
              "RandomForestRegressor(n_estimators=10, n_jobs=-1, random_state=42)"
            ],
            "text/html": [
              "<style>#sk-container-id-3 {color: black;background-color: white;}#sk-container-id-3 pre{padding: 0;}#sk-container-id-3 div.sk-toggleable {background-color: white;}#sk-container-id-3 label.sk-toggleable__label {cursor: pointer;display: block;width: 100%;margin-bottom: 0;padding: 0.3em;box-sizing: border-box;text-align: center;}#sk-container-id-3 label.sk-toggleable__label-arrow:before {content: \"▸\";float: left;margin-right: 0.25em;color: #696969;}#sk-container-id-3 label.sk-toggleable__label-arrow:hover:before {color: black;}#sk-container-id-3 div.sk-estimator:hover label.sk-toggleable__label-arrow:before {color: black;}#sk-container-id-3 div.sk-toggleable__content {max-height: 0;max-width: 0;overflow: hidden;text-align: left;background-color: #f0f8ff;}#sk-container-id-3 div.sk-toggleable__content pre {margin: 0.2em;color: black;border-radius: 0.25em;background-color: #f0f8ff;}#sk-container-id-3 input.sk-toggleable__control:checked~div.sk-toggleable__content {max-height: 200px;max-width: 100%;overflow: auto;}#sk-container-id-3 input.sk-toggleable__control:checked~label.sk-toggleable__label-arrow:before {content: \"▾\";}#sk-container-id-3 div.sk-estimator input.sk-toggleable__control:checked~label.sk-toggleable__label {background-color: #d4ebff;}#sk-container-id-3 div.sk-label input.sk-toggleable__control:checked~label.sk-toggleable__label {background-color: #d4ebff;}#sk-container-id-3 input.sk-hidden--visually {border: 0;clip: rect(1px 1px 1px 1px);clip: rect(1px, 1px, 1px, 1px);height: 1px;margin: -1px;overflow: hidden;padding: 0;position: absolute;width: 1px;}#sk-container-id-3 div.sk-estimator {font-family: monospace;background-color: #f0f8ff;border: 1px dotted black;border-radius: 0.25em;box-sizing: border-box;margin-bottom: 0.5em;}#sk-container-id-3 div.sk-estimator:hover {background-color: #d4ebff;}#sk-container-id-3 div.sk-parallel-item::after {content: \"\";width: 100%;border-bottom: 1px solid gray;flex-grow: 1;}#sk-container-id-3 div.sk-label:hover label.sk-toggleable__label {background-color: #d4ebff;}#sk-container-id-3 div.sk-serial::before {content: \"\";position: absolute;border-left: 1px solid gray;box-sizing: border-box;top: 0;bottom: 0;left: 50%;z-index: 0;}#sk-container-id-3 div.sk-serial {display: flex;flex-direction: column;align-items: center;background-color: white;padding-right: 0.2em;padding-left: 0.2em;position: relative;}#sk-container-id-3 div.sk-item {position: relative;z-index: 1;}#sk-container-id-3 div.sk-parallel {display: flex;align-items: stretch;justify-content: center;background-color: white;position: relative;}#sk-container-id-3 div.sk-item::before, #sk-container-id-3 div.sk-parallel-item::before {content: \"\";position: absolute;border-left: 1px solid gray;box-sizing: border-box;top: 0;bottom: 0;left: 50%;z-index: -1;}#sk-container-id-3 div.sk-parallel-item {display: flex;flex-direction: column;z-index: 1;position: relative;background-color: white;}#sk-container-id-3 div.sk-parallel-item:first-child::after {align-self: flex-end;width: 50%;}#sk-container-id-3 div.sk-parallel-item:last-child::after {align-self: flex-start;width: 50%;}#sk-container-id-3 div.sk-parallel-item:only-child::after {width: 0;}#sk-container-id-3 div.sk-dashed-wrapped {border: 1px dashed gray;margin: 0 0.4em 0.5em 0.4em;box-sizing: border-box;padding-bottom: 0.4em;background-color: white;}#sk-container-id-3 div.sk-label label {font-family: monospace;font-weight: bold;display: inline-block;line-height: 1.2em;}#sk-container-id-3 div.sk-label-container {text-align: center;}#sk-container-id-3 div.sk-container {/* jupyter's `normalize.less` sets `[hidden] { display: none; }` but bootstrap.min.css set `[hidden] { display: none !important; }` so we also need the `!important` here to be able to override the default hidden behavior on the sphinx rendered scikit-learn.org. See: https://github.com/scikit-learn/scikit-learn/issues/21755 */display: inline-block !important;position: relative;}#sk-container-id-3 div.sk-text-repr-fallback {display: none;}</style><div id=\"sk-container-id-3\" class=\"sk-top-container\"><div class=\"sk-text-repr-fallback\"><pre>RandomForestRegressor(n_estimators=10, n_jobs=-1, random_state=42)</pre><b>In a Jupyter environment, please rerun this cell to show the HTML representation or trust the notebook. <br />On GitHub, the HTML representation is unable to render, please try loading this page with nbviewer.org.</b></div><div class=\"sk-container\" hidden><div class=\"sk-item\"><div class=\"sk-estimator sk-toggleable\"><input class=\"sk-toggleable__control sk-hidden--visually\" id=\"sk-estimator-id-3\" type=\"checkbox\" checked><label for=\"sk-estimator-id-3\" class=\"sk-toggleable__label sk-toggleable__label-arrow\">RandomForestRegressor</label><div class=\"sk-toggleable__content\"><pre>RandomForestRegressor(n_estimators=10, n_jobs=-1, random_state=42)</pre></div></div></div></div></div>"
            ]
          },
          "metadata": {},
          "execution_count": 58
        }
      ]
    },
    {
      "cell_type": "code",
      "source": [
        "#Define SMAPE\n",
        "def SMAPE(actual, predicted):\n",
        "    return 1/len(actual) * np.sum(2 * np.abs(predicted-actual) / (np.abs(actual) + np.abs(predicted))*100)"
      ],
      "metadata": {
        "id": "q9AI2jRhe1dh"
      },
      "execution_count": null,
      "outputs": []
    },
    {
      "cell_type": "code",
      "source": [
        "#Evaluate SMAPE\n",
        "print(\"Train SMAPE:\\n\", SMAPE(y_train.values.ravel(), model.predict(X_train)))\n",
        "print(\"Test SMAPE:\\n\", SMAPE(y_test.values.ravel(), model.predict(X_test)))\n"
      ],
      "metadata": {
        "id": "mAopRdYjsM_Q",
        "colab": {
          "base_uri": "https://localhost:8080/"
        },
        "outputId": "cea3ec68-9449-4b3d-ba6f-f55c878436a5"
      },
      "execution_count": null,
      "outputs": [
        {
          "output_type": "stream",
          "name": "stdout",
          "text": [
            "Train SMAPE:\n",
            " 42.68911877066924\n",
            "Test SMAPE:\n",
            " 105.63993642370252\n"
          ]
        }
      ]
    },
    {
      "cell_type": "code",
      "execution_count": null,
      "metadata": {
        "id": "vqPCeIQEfg0F"
      },
      "outputs": [],
      "source": [
        "df[\"power pred\"] = model.predict(X)"
      ]
    }
  ],
  "metadata": {
    "colab": {
      "provenance": [],
      "toc_visible": true,
      "include_colab_link": true
    },
    "kernelspec": {
      "display_name": "Python 3",
      "name": "python3"
    },
    "language_info": {
      "name": "python"
    }
  },
  "nbformat": 4,
  "nbformat_minor": 0
}
